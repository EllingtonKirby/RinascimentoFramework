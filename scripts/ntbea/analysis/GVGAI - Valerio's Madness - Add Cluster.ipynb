{
 "cells": [
  {
   "cell_type": "code",
   "execution_count": 21,
   "metadata": {},
   "outputs": [],
   "source": [
    "import pandas as pd\n",
    "\n",
    "def add_cluster_col(df, gg):\n",
    "    gg_data = []\n",
    "    for g_index in range(len(gg)):\n",
    "        g_data = df[df.game.isin(gg[g_index])]\n",
    "        g_data[\"cluster\"] = g_index\n",
    "        gg_data.append(g_data)\n",
    "        \n",
    "    return (pd.concat(gg_data))\n"
   ]
  },
  {
   "cell_type": "code",
   "execution_count": 24,
   "metadata": {},
   "outputs": [
    {
     "name": "stderr",
     "output_type": "stream",
     "text": [
      "/usr/local/lib/python3.7/site-packages/ipykernel_launcher.py:7: SettingWithCopyWarning: \n",
      "A value is trying to be set on a copy of a slice from a DataFrame.\n",
      "Try using .loc[row_indexer,col_indexer] = value instead\n",
      "\n",
      "See the caveats in the documentation: https://pandas.pydata.org/pandas-docs/stable/user_guide/indexing.html#returning-a-view-versus-a-copy\n",
      "  import sys\n"
     ]
    }
   ],
   "source": [
    "path = \"/Users/ivanbravi/git/GVGAI/src/ivan/_data/\"\n",
    "agent = \"roskvist\"\n",
    "file_in = path+agent+\".csv\"\n",
    "file_out = path+agent+\"_c.csv\"\n",
    "df = pd.read_csv(file_in)\n",
    "\n",
    "g1 = [\"frogs\",\"zelda\"]\n",
    "g2 = [\"jaws\",\"plaqueattack\",\"racebet2\", \"seaquest\"]\n",
    "\n",
    "df = add_cluster_col(df, [g1,g2])\n",
    "\n",
    "df.to_csv(file_out)"
   ]
  }
 ],
 "metadata": {
  "kernelspec": {
   "display_name": "Python 3",
   "language": "python",
   "name": "python3"
  },
  "language_info": {
   "codemirror_mode": {
    "name": "ipython",
    "version": 3
   },
   "file_extension": ".py",
   "mimetype": "text/x-python",
   "name": "python",
   "nbconvert_exporter": "python",
   "pygments_lexer": "ipython3",
   "version": "3.7.7"
  }
 },
 "nbformat": 4,
 "nbformat_minor": 4
}
