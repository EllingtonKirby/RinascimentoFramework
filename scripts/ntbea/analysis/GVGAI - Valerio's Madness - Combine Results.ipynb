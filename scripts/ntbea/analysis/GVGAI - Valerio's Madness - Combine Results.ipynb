{
 "cells": [
  {
   "cell_type": "code",
   "execution_count": 1,
   "metadata": {},
   "outputs": [],
   "source": [
    "import pandas as pd"
   ]
  },
  {
   "cell_type": "code",
   "execution_count": 2,
   "metadata": {},
   "outputs": [],
   "source": [
    "def readPartial(file, progression, step):\n",
    "    df = pd.read_csv(file)\n",
    "    df[\"id\"] = df[\"id\"] + progression*step\n",
    "    return df"
   ]
  },
  {
   "cell_type": "code",
   "execution_count": 3,
   "metadata": {},
   "outputs": [],
   "source": [
    "def readAgent(agent_code, path):\n",
    "    samples = 5\n",
    "    splits = 6\n",
    "\n",
    "    agent_path = path+agent_code+\"/\"+agent_code+\"_\"\n",
    "    files = [agent_path+str(f)+\".csv\" for f in range(splits)]\n",
    "\n",
    "    df = pd.concat((readPartial(files[f], f, samples) for f in range(splits)))\n",
    "    df = df.sort_values([\"game\",\"level\",\"id\"])\n",
    "    return df\n"
   ]
  },
  {
   "cell_type": "code",
   "execution_count": 13,
   "metadata": {},
   "outputs": [
    {
     "name": "stderr",
     "output_type": "stream",
     "text": [
      "/usr/local/lib/python3.7/site-packages/ipykernel_launcher.py:5: SettingWithCopyWarning: \n",
      "A value is trying to be set on a copy of a slice from a DataFrame.\n",
      "Try using .loc[row_indexer,col_indexer] = value instead\n",
      "\n",
      "See the caveats in the documentation: https://pandas.pydata.org/pandas-docs/stable/user_guide/indexing.html#returning-a-view-versus-a-copy\n",
      "  \"\"\"\n"
     ]
    }
   ],
   "source": [
    "def add_cluster_col(df, gg):\n",
    "    gg_data = []\n",
    "    for g_index in range(len(gg)):\n",
    "        g_data = df[df.game.isin(gg[g_index])]\n",
    "        g_data[\"cluster\"] = g_index\n",
    "        gg_data.append(g_data)\n",
    "        \n",
    "    return (pd.concat(gg_data))\n",
    "\n",
    "g1 = [\"frogs\",\"zelda\"]\n",
    "g2 = [\"jaws\",\"plaqueattack\",\"racebet2\", \"seaquest\"]\n",
    "gg = [g1, g2]\n",
    "\n",
    "path = \"/Users/ivanbravi/git/GVGAI/src/ivan/_data/\"\n",
    "agents = [\"novtea\",\"roskvist\"]\n",
    "csv_out = \"agents_clustered_perfromance\"\n",
    "all_data = []\n",
    "\n",
    "for agent in agents:\n",
    "    file_in = path+agent+\".csv\"\n",
    "    file_out = path+agent+\"_c.csv\"\n",
    "    df = pd.read_csv(file_in)\n",
    "    df = add_cluster_col(df, gg)\n",
    "    df.to_csv(file_out)\n",
    "    all_data.append(df)\n",
    "    \n",
    "all_data = pd.concat(all_data)\n",
    "all_data.to_csv(path+csv_out+\".csv\", index=False)"
   ]
  },
  {
   "cell_type": "code",
   "execution_count": 9,
   "metadata": {
    "scrolled": false
   },
   "outputs": [],
   "source": [
    "path = \"/Users/ivanbravi/git/GVGAI/src/ivan/_data/\"\n",
    "agents = [\"rnd\", \"mcts\", \"rhea\", \"olets\", \"yolobot\"]\n",
    "# cluster_agents = [\"novtea\", \"roskvist\"]\n",
    "file_out = \"agents_perfromance\"\n",
    "#singles\n",
    "for a in agents:\n",
    "    df = readAgent(a, path)\n",
    "    #print(df.info())\n",
    "    out_path = path+a+\".csv\"\n",
    "    df.to_csv(out_path, index=False)\n",
    "\n",
    "#aggregate\n",
    "all_data = pd.concat((readAgent(a, path) for a in agents))\n",
    "#print(all_data.info())\n",
    "out_path = path+file_out+\".csv\"\n",
    "all_data.to_csv(out_path, index=False)\n"
   ]
  },
  {
   "cell_type": "code",
   "execution_count": 7,
   "metadata": {},
   "outputs": [
    {
     "name": "stdout",
     "output_type": "stream",
     "text": [
      "['NovTea']\n",
      "['frogs' 'jaws' 'plaqueattack' 'racebet2' 'seaquest' 'zelda']\n",
      "[0 1 2 3 4]\n"
     ]
    }
   ],
   "source": [
    "print(all_data[\"agent\"].unique())\n",
    "print(all_data[\"game\"].unique())\n",
    "print(all_data[\"level\"].unique())"
   ]
  }
 ],
 "metadata": {
  "kernelspec": {
   "display_name": "Python 3",
   "language": "python",
   "name": "python3"
  },
  "language_info": {
   "codemirror_mode": {
    "name": "ipython",
    "version": 3
   },
   "file_extension": ".py",
   "mimetype": "text/x-python",
   "name": "python",
   "nbconvert_exporter": "python",
   "pygments_lexer": "ipython3",
   "version": "3.7.7"
  }
 },
 "nbformat": 4,
 "nbformat_minor": 4
}
